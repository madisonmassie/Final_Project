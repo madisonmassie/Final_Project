{
 "cells": [
  {
   "cell_type": "code",
   "execution_count": 1,
   "id": "f2b8cfc6",
   "metadata": {},
   "outputs": [],
   "source": [
    "#Import modules\n",
    "import psycopg2\n",
    "import pandas as pd\n",
    "import numpy as np\n",
    "\n",
    "#Import password for postgres\n",
    "from passwords import password "
   ]
  },
  {
   "cell_type": "code",
   "execution_count": 2,
   "id": "a8427af9",
   "metadata": {},
   "outputs": [],
   "source": [
    "#Open a connection to postgres and create a connection object\n",
    "conn = psycopg2.connect(host='localhost', dbname='glass', user='postgres', password=password)\n",
    "#Create a cursor object to execute commands\n",
    "cur = conn.cursor()\n",
    "\n",
    "cur.execute('DROP TABLE IF EXISTS observation_data')\n",
    "cur.execute('''\n",
    "    CREATE TABLE observation_data(\n",
    "        RI float,\n",
    "        NA float,\n",
    "        MG float,\n",
    "        AL float,\n",
    "        SI float,\n",
    "        K float,\n",
    "        CA float,\n",
    "        BA float,\n",
    "        FE float,\n",
    "        TYPE integer)\n",
    "''')\n",
    "\n",
    "#Commit changes \n",
    "conn.commit()"
   ]
  },
  {
   "cell_type": "code",
   "execution_count": 3,
   "id": "8871e22f",
   "metadata": {},
   "outputs": [],
   "source": [
    "#Create a cursor object to execute commands\n",
    "cur = conn.cursor()\n",
    "\n",
    "#Open the created csv file\n",
    "with open('glass (1).csv', 'r') as i:\n",
    "    #Skip header row\n",
    "    next(i) \n",
    "    \n",
    "    #Call the created unemployment table and copy data from csv file into table\n",
    "    cur.copy_from(i, 'observation_data', sep=',', null='')\n",
    "\n",
    "#Commit changes\n",
    "#cur.execute('ALTER TABLE observation_data DROP COLUMN TYPE')\n",
    "conn.commit()"
   ]
  },
  {
   "cell_type": "code",
   "execution_count": 4,
   "id": "8ab89e8a",
   "metadata": {},
   "outputs": [],
   "source": [
    "cur = conn.cursor()\n",
    "\n",
    "cur.execute('''\n",
    "    ALTER TABLE observation_data RENAME TO old_glass;\n",
    "    CREATE TABLE observation_data (\n",
    "        OBSERVATION_ID SERIAL PRIMARY KEY,\n",
    "        RI float,\n",
    "        NA float,\n",
    "        MG float,\n",
    "        AL float,\n",
    "        SI float,\n",
    "        K float,\n",
    "        CA float,\n",
    "        BA float,\n",
    "        FE float,\n",
    "        TYPE integer);\n",
    "    INSERT INTO observation_data (RI, NA, MG, AL, SI, K, CA, BA, FE, TYPE) SELECT * from old_glass;\n",
    "    DROP TABLE old_glass;''')\n",
    "\n",
    "conn.commit()"
   ]
  }
 ],
 "metadata": {
  "kernelspec": {
   "display_name": "Python3.9",
   "language": "python",
   "name": "python3.9"
  },
  "language_info": {
   "codemirror_mode": {
    "name": "ipython",
    "version": 3
   },
   "file_extension": ".py",
   "mimetype": "text/x-python",
   "name": "python",
   "nbconvert_exporter": "python",
   "pygments_lexer": "ipython3",
   "version": "3.9.6"
  }
 },
 "nbformat": 4,
 "nbformat_minor": 5
}
